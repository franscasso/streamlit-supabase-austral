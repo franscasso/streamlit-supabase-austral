{
 "cells": [
  {
   "cell_type": "markdown",
   "metadata": {},
   "source": [
    "# Test Functions\n",
    "\n",
    "This notebook can be used to test the functions in `functions.py`."
   ]
  },
  {
   "cell_type": "code",
   "execution_count": 3,
   "metadata": {},
   "outputs": [
    {
     "name": "stdout",
     "output_type": "stream",
     "text": [
      "Error importing function: No module named 'psycopg2'\n",
      "Make sure functions.py is in the same directory or in the Python path.\n"
     ]
    }
   ],
   "source": [
    "# Import the function from functions.py\n",
    "try:\n",
    "    from functions import connect_to_supabase\n",
    "    print('Successfully imported connect_to_supabase from functions.py')\n",
    "except ImportError as e:\n",
    "    print(f'Error importing function: {e}')\n",
    "    print('Make sure functions.py is in the same directory or in the Python path.')"
   ]
  },
  {
   "cell_type": "code",
   "execution_count": 4,
   "id": "955988ad",
   "metadata": {},
   "outputs": [
    {
     "ename": "ModuleNotFoundError",
     "evalue": "No module named 'dotenv'",
     "output_type": "error",
     "traceback": [
      "\u001b[31m---------------------------------------------------------------------------\u001b[39m",
      "\u001b[31mModuleNotFoundError\u001b[39m                       Traceback (most recent call last)",
      "\u001b[36mCell\u001b[39m\u001b[36m \u001b[39m\u001b[32mIn[4]\u001b[39m\u001b[32m, line 1\u001b[39m\n\u001b[32m----> \u001b[39m\u001b[32m1\u001b[39m \u001b[38;5;28;01mfrom\u001b[39;00m\u001b[38;5;250m \u001b[39m\u001b[34;01mdotenv\u001b[39;00m\u001b[38;5;250m \u001b[39m\u001b[38;5;28;01mimport\u001b[39;00m load_dotenv\n\u001b[32m      3\u001b[39m load_dotenv()\n",
      "\u001b[31mModuleNotFoundError\u001b[39m: No module named 'dotenv'"
     ]
    }
   ],
   "source": [
    "from dotenv import load_dotenv\n",
    "\n",
    "load_dotenv()"
   ]
  },
  {
   "cell_type": "code",
   "execution_count": null,
   "metadata": {},
   "outputs": [],
   "source": [
    "# Call the connect_to_supabase function\n",
    "\n",
    "supabase_client = connect_to_supabase()"
   ]
  },
  {
   "cell_type": "code",
   "execution_count": null,
   "id": "b23d9329",
   "metadata": {},
   "outputs": [],
   "source": [
    "# Import the function from functions.py\n",
    "try:\n",
    "    from functions import execute_query\n",
    "    print('Successfully imported execute_query from functions.py')\n",
    "except ImportError as e:\n",
    "    print(f'Error importing function: {e}')\n",
    "    print('Make sure functions.py is in the same directory or in the Python path.')"
   ]
  },
  {
   "cell_type": "code",
   "execution_count": null,
   "id": "e90c2198",
   "metadata": {},
   "outputs": [],
   "source": [
    "query = \"SELECT * FROM empleado\""
   ]
  },
  {
   "cell_type": "code",
   "execution_count": null,
   "id": "4391fa5b",
   "metadata": {},
   "outputs": [],
   "source": [
    "execute_query(query)"
   ]
  }
 ],
 "metadata": {
  "kernelspec": {
   "display_name": "Python 3",
   "language": "python",
   "name": "python3"
  },
  "language_info": {
   "codemirror_mode": {
    "name": "ipython",
    "version": 3
   },
   "file_extension": ".py",
   "mimetype": "text/x-python",
   "name": "python",
   "nbconvert_exporter": "python",
   "pygments_lexer": "ipython3",
   "version": "3.13.2"
  }
 },
 "nbformat": 4,
 "nbformat_minor": 5
}
